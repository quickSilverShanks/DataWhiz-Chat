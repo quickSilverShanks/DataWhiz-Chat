{
  "nbformat": 4,
  "nbformat_minor": 0,
  "metadata": {
    "colab": {
      "provenance": [],
      "gpuType": "T4"
    },
    "kernelspec": {
      "name": "python3",
      "display_name": "Python 3"
    },
    "language_info": {
      "name": "python"
    },
    "accelerator": "GPU"
  },
  "cells": [
    {
      "cell_type": "markdown",
      "source": [
        "# Open source data ingestion for RAGs with dlt\n",
        "\n",
        "# Homework\n",
        "\n",
        "In the workshop, we extracted contents from two pages in notion titled \"Workshop: Benefits and Perks\" and \"Workshop: Working hours, PTO, and Vacation\".\n",
        "\n",
        "Repeat the same process for a third page titled \"Homework: Employee handbook\" (hidden from public view, but accessible via API key):\n",
        "\n",
        "1. Modify the REST API source to extract only this page.\n",
        "2. Write the output into a separate table called \"homework\".\n",
        "3. Remember to update the table name in all cells where you connect to a lancedb table.\n",
        "\n",
        "To do this you can use the [workshop Colab](https://colab.research.google.com/drive/1nNOybHdWQiwUUuJFZu__xvJxL_ADU3xl?usp=sharing) as a basis.\n",
        "\n",
        "Now, answer the following questions:  \n",
        "\n",
        "## Q1. Rows in LanceDB\n",
        "\n",
        "How many rows does the lancedb table \"notion_pages__homework\" have?\n",
        "\n",
        "* 14\n",
        "* 15\n",
        "* 16\n",
        "* 17"
      ],
      "metadata": {
        "id": "u1e98gg0Q4v0"
      }
    },
    {
      "cell_type": "code",
      "execution_count": 1,
      "metadata": {
        "id": "X8hyjSvvQupD"
      },
      "outputs": [],
      "source": [
        "%%capture\n",
        "!pip install dlt[lancedb]\n",
        "!pip install sentence-transformers"
      ]
    },
    {
      "cell_type": "code",
      "source": [
        "!nvidia-smi"
      ],
      "metadata": {
        "colab": {
          "base_uri": "https://localhost:8080/"
        },
        "id": "Xw3ngInNR9Pb",
        "outputId": "331cd3b9-79d3-4488-fa51-1553372a3c8a"
      },
      "execution_count": 2,
      "outputs": [
        {
          "output_type": "stream",
          "name": "stdout",
          "text": [
            "Fri Jul 19 19:14:32 2024       \n",
            "+---------------------------------------------------------------------------------------+\n",
            "| NVIDIA-SMI 535.104.05             Driver Version: 535.104.05   CUDA Version: 12.2     |\n",
            "|-----------------------------------------+----------------------+----------------------+\n",
            "| GPU  Name                 Persistence-M | Bus-Id        Disp.A | Volatile Uncorr. ECC |\n",
            "| Fan  Temp   Perf          Pwr:Usage/Cap |         Memory-Usage | GPU-Util  Compute M. |\n",
            "|                                         |                      |               MIG M. |\n",
            "|=========================================+======================+======================|\n",
            "|   0  Tesla T4                       Off | 00000000:00:04.0 Off |                    0 |\n",
            "| N/A   50C    P8              12W /  70W |      0MiB / 15360MiB |      0%      Default |\n",
            "|                                         |                      |                  N/A |\n",
            "+-----------------------------------------+----------------------+----------------------+\n",
            "                                                                                         \n",
            "+---------------------------------------------------------------------------------------+\n",
            "| Processes:                                                                            |\n",
            "|  GPU   GI   CI        PID   Type   Process name                            GPU Memory |\n",
            "|        ID   ID                                                             Usage      |\n",
            "|=======================================================================================|\n",
            "|  No running processes found                                                           |\n",
            "+---------------------------------------------------------------------------------------+\n"
          ]
        }
      ]
    },
    {
      "cell_type": "code",
      "source": [
        "!yes | dlt init rest_api lancedb"
      ],
      "metadata": {
        "colab": {
          "base_uri": "https://localhost:8080/"
        },
        "id": "lRZYM7NrSAoS",
        "outputId": "36134886-1a42-4c2d-b065-e0c5e6341244"
      },
      "execution_count": 3,
      "outputs": [
        {
          "output_type": "stream",
          "name": "stdout",
          "text": [
            "Looking up the init scripts in \u001b[1mhttps://github.com/dlt-hub/verified-sources.git\u001b[0m...\n",
            "No files to update, exiting\n"
          ]
        }
      ]
    },
    {
      "cell_type": "code",
      "source": [
        "import os\n",
        "from google.colab import userdata\n",
        "\n",
        "os.environ[\"SOURCES__REST_API__NOTION__API_KEY\"] = userdata.get(\"SOURCES__REST_API__NOTION__API_KEY\")\n",
        "\n",
        "os.environ[\"DESTINATION__LANCEDB__EMBEDDING_MODEL_PROVIDER\"] = \"sentence-transformers\"\n",
        "os.environ[\"DESTINATION__LANCEDB__EMBEDDING_MODEL\"] = \"all-MiniLM-L6-v2\"\n",
        "\n",
        "os.environ[\"DESTINATION__LANCEDB__CREDENTIALS__URI\"] = \".lancedb\""
      ],
      "metadata": {
        "id": "y0gMcdiiSL9U"
      },
      "execution_count": 4,
      "outputs": []
    },
    {
      "cell_type": "code",
      "source": [
        "import dlt\n",
        "from rest_api import RESTAPIConfig, rest_api_source\n",
        "\n",
        "from dlt.sources.helpers.rest_client.paginators import BasePaginator, JSONResponsePaginator\n",
        "from dlt.sources.helpers.requests import Response, Request\n",
        "\n",
        "from dlt.destinations.adapters import lancedb_adapter"
      ],
      "metadata": {
        "id": "oazTlZW4TN7b"
      },
      "execution_count": 5,
      "outputs": []
    },
    {
      "cell_type": "code",
      "source": [
        "from datetime import datetime, timezone\n",
        "\n",
        "class PostBodyPaginator(BasePaginator):\n",
        "    def __init__(self):\n",
        "        super().__init__()\n",
        "        self.cursor = None\n",
        "\n",
        "    def update_state(self, response: Response) -> None:\n",
        "        # Assuming the API returns an empty list when no more data is available\n",
        "        if not response.json():\n",
        "            self._has_next_page = False\n",
        "        else:\n",
        "            self.cursor = response.json().get(\"next_cursor\")\n",
        "            if self.cursor is None:\n",
        "                self._has_next_page = False\n",
        "\n",
        "    def update_request(self, request: Request) -> None:\n",
        "        if request.json is None:\n",
        "            request.json = {}\n",
        "\n",
        "        # Add the cursor to the request body\n",
        "        request.json[\"start_cursor\"] = self.cursor\n",
        "\n",
        "@dlt.resource(name=\"employee_handbook\")\n",
        "def rest_api_notion_resource():\n",
        "    notion_config: RESTAPIConfig = {\n",
        "        \"client\": {\n",
        "            \"base_url\": \"https://api.notion.com/v1/\",\n",
        "            \"auth\": {\n",
        "                \"token\": dlt.secrets[\"sources.rest_api.notion.api_key\"]\n",
        "            },\n",
        "            \"headers\":{\n",
        "            \"Content-Type\": \"application/json\",\n",
        "            \"Notion-Version\": \"2022-06-28\"\n",
        "            }\n",
        "        },\n",
        "        \"resources\": [\n",
        "            {\n",
        "                \"name\": \"search\",\n",
        "                \"endpoint\": {\n",
        "                    \"path\": \"search\",\n",
        "                    \"method\": \"POST\",\n",
        "                    \"paginator\": PostBodyPaginator(),\n",
        "                    \"json\": {\n",
        "                        \"query\": \"Homework: Employee handbook\",\n",
        "                        \"sort\": {\n",
        "                            \"direction\": \"ascending\",\n",
        "                            \"timestamp\": \"last_edited_time\"\n",
        "                        }\n",
        "                    },\n",
        "                    \"data_selector\": \"results\"\n",
        "                }\n",
        "            },\n",
        "            {\n",
        "                \"name\": \"homework_page_content\",\n",
        "                \"endpoint\": {\n",
        "                    \"path\": \"blocks/{page_id}/children\",\n",
        "                    \"paginator\": JSONResponsePaginator(),\n",
        "                    \"params\": {\n",
        "                        \"page_id\": {\n",
        "                            \"type\": \"resolve\",\n",
        "                            \"resource\": \"search\",\n",
        "                            \"field\": \"id\"\n",
        "                        }\n",
        "                    },\n",
        "                }\n",
        "            }\n",
        "        ]\n",
        "    }\n",
        "\n",
        "    yield from rest_api_source(notion_config,name=\"employee_handbook\")\n",
        "\n",
        "def extract_page_content(response):\n",
        "    block_id = response[\"id\"]\n",
        "    last_edited_time = response[\"last_edited_time\"]\n",
        "    block_type = response.get(\"type\", \"Not paragraph\")\n",
        "    if block_type != \"paragraph\":\n",
        "        content = \"\"\n",
        "    else:\n",
        "        try:\n",
        "            content = response[\"paragraph\"][\"rich_text\"][0][\"plain_text\"]\n",
        "        except IndexError:\n",
        "            content = \"\"\n",
        "    return {\n",
        "        \"block_id\": block_id,\n",
        "        \"block_type\": block_type,\n",
        "        \"content\": content,\n",
        "        \"last_edited_time\": last_edited_time,\n",
        "        \"inserted_at_time\": datetime.now(timezone.utc)\n",
        "    }\n",
        "\n",
        "@dlt.resource(\n",
        "    name=\"homework\",\n",
        "    write_disposition=\"merge\",\n",
        "    primary_key=\"block_id\",\n",
        "    columns={\"last_edited_time\":{\"dedup_sort\":\"desc\"}}\n",
        "    )\n",
        "def rest_api_notion_incremental(\n",
        "    last_edited_time = dlt.sources.incremental(\"last_edited_time\", initial_value=\"2024-06-26T08:16:00.000Z\",primary_key=(\"block_id\"))\n",
        "):\n",
        "    # last_value = last_edited_time.last_value\n",
        "    # print(last_value)\n",
        "\n",
        "    for block in rest_api_notion_resource.add_map(extract_page_content):\n",
        "        if not(len(block[\"content\"])):\n",
        "            continue\n",
        "        yield block\n",
        "\n",
        "def load_notion() -> None:\n",
        "    pipeline = dlt.pipeline(\n",
        "        pipeline_name=\"company_policies\",\n",
        "        destination=\"lancedb\",\n",
        "        dataset_name=\"notion_pages\",\n",
        "        # full_refresh=True\n",
        "    )\n",
        "\n",
        "    load_info = pipeline.run(\n",
        "        lancedb_adapter(\n",
        "            rest_api_notion_incremental,\n",
        "            embed=\"content\"\n",
        "        ),\n",
        "        table_name=\"homework\",\n",
        "        write_disposition=\"merge\"\n",
        "    )\n",
        "    print(load_info)\n",
        "\n",
        "load_notion()"
      ],
      "metadata": {
        "colab": {
          "base_uri": "https://localhost:8080/"
        },
        "id": "QW8XZKD6S-dT",
        "outputId": "03d71147-fd5c-49a8-c52f-52ffb39e882e"
      },
      "execution_count": 6,
      "outputs": [
        {
          "output_type": "stream",
          "name": "stdout",
          "text": [
            "Pipeline company_policies load step completed in ---\n",
            "0 load package(s) were loaded to destination LanceDB and into dataset None\n",
            "The LanceDB destination used <dlt.destinations.impl.lancedb.configuration.LanceDBCredentials object at 0x7c5dcaf9b460> location to store data\n"
          ]
        }
      ]
    },
    {
      "cell_type": "code",
      "source": [
        "import lancedb\n",
        "\n",
        "db = lancedb.connect(\".lancedb\")\n",
        "db.table_names()"
      ],
      "metadata": {
        "colab": {
          "base_uri": "https://localhost:8080/"
        },
        "id": "b-R46tcfUIoL",
        "outputId": "4adfd600-b8c9-48f5-f120-b8adbe9e5adc"
      },
      "execution_count": 7,
      "outputs": [
        {
          "output_type": "execute_result",
          "data": {
            "text/plain": [
              "['notion_pages____dlt_loads',\n",
              " 'notion_pages____dlt_pipeline_state',\n",
              " 'notion_pages____dlt_version',\n",
              " 'notion_pages___dltSentinelTable',\n",
              " 'notion_pages___homework']"
            ]
          },
          "metadata": {},
          "execution_count": 7
        }
      ]
    },
    {
      "cell_type": "code",
      "source": [
        "dbtable = db.open_table(\"notion_pages___homework\")\n",
        "dbtable = dbtable.to_pandas()\n",
        "dbtable.shape"
      ],
      "metadata": {
        "colab": {
          "base_uri": "https://localhost:8080/"
        },
        "id": "9HqhYCAYUehy",
        "outputId": "c571d1c4-cb88-467f-a743-2672e38d0fc3"
      },
      "execution_count": 8,
      "outputs": [
        {
          "output_type": "execute_result",
          "data": {
            "text/plain": [
              "(17, 9)"
            ]
          },
          "metadata": {},
          "execution_count": 8
        }
      ]
    },
    {
      "cell_type": "markdown",
      "source": [
        ">> Total rows in lanceDB table 'notion_pages___homework' : 17"
      ],
      "metadata": {
        "id": "S3riCudAUvS7"
      }
    },
    {
      "cell_type": "markdown",
      "source": [
        "## Q2. Running the Pipeline: Last edited time\n",
        "\n",
        "In the demo, we created an incremental dlt resource `rest_api_notion_incremental` that keeps track of `last_edited_time`. What value does it store after you've run your pipeline once? (Hint: you will be able to get this value by performing some aggregation function on the column `last_edited_time` of the table)\n",
        "\n",
        "* `Timestamp('2024-07-05 22:34:00+0000', tz='UTC') (OR \"2024-07-05T22:34:00.000Z\")`\n",
        "* `Timestamp('2024-07-05 23:33:00+0000', tz='UTC') (OR \"2024-07-05T23:33:00.000Z\")`\n",
        "* `Timestamp('2024-07-05 23:52:00+0000', tz='UTC') (OR \"2024-07-05T23:52:00.000Z\")`\n",
        "* `Timestamp('2024-07-05 22:56:00+0000', tz='UTC') (OR \"2024-07-05T22:56:00.000Z\")`"
      ],
      "metadata": {
        "id": "3Tffj4tRVAfD"
      }
    },
    {
      "cell_type": "code",
      "source": [
        "dbtable.head(2)"
      ],
      "metadata": {
        "colab": {
          "base_uri": "https://localhost:8080/",
          "height": 234
        },
        "id": "gUxbogmKU5oE",
        "outputId": "c83c6952-ae0b-4e8f-fbae-6217f73b5702"
      },
      "execution_count": 9,
      "outputs": [
        {
          "output_type": "execute_result",
          "data": {
            "text/plain": [
              "                                   id__  \\\n",
              "0  c69f1ecf-7b02-5810-8286-3f42659ae9d4   \n",
              "1  f2c18ac0-50f5-5b72-a871-dc5a46780353   \n",
              "\n",
              "                                            vector__  \\\n",
              "0  [-0.024265556, 0.04746074, -0.01179647, 0.0638...   \n",
              "1  [-0.04966156, 0.10853508, -0.009762607, -0.036...   \n",
              "\n",
              "                               block_id block_type  \\\n",
              "0  a8196881-ae94-4767-8767-92fe1a327d24  paragraph   \n",
              "1  31fcbf26-2ca5-468a-8af8-d7eb4c2db8c8  paragraph   \n",
              "\n",
              "                                             content  \\\n",
              "0  We owe our success to our employees. To show o...   \n",
              "1  We want to ensure that private information abo...   \n",
              "\n",
              "           last_edited_time                 inserted_at_time  \\\n",
              "0 2024-07-05 22:34:00+00:00 2024-07-19 19:07:44.819222+00:00   \n",
              "1 2024-07-05 22:38:00+00:00 2024-07-19 19:07:44.822765+00:00   \n",
              "\n",
              "         _dlt_load_id         _dlt_id  \n",
              "0  1721416064.0473487  8AhIYf6ZEidMYQ  \n",
              "1  1721416064.0473487  EOxBtxR/Onq+sQ  "
            ],
            "text/html": [
              "\n",
              "  <div id=\"df-1488768b-a75c-43c0-8ac2-848a4d73803f\" class=\"colab-df-container\">\n",
              "    <div>\n",
              "<style scoped>\n",
              "    .dataframe tbody tr th:only-of-type {\n",
              "        vertical-align: middle;\n",
              "    }\n",
              "\n",
              "    .dataframe tbody tr th {\n",
              "        vertical-align: top;\n",
              "    }\n",
              "\n",
              "    .dataframe thead th {\n",
              "        text-align: right;\n",
              "    }\n",
              "</style>\n",
              "<table border=\"1\" class=\"dataframe\">\n",
              "  <thead>\n",
              "    <tr style=\"text-align: right;\">\n",
              "      <th></th>\n",
              "      <th>id__</th>\n",
              "      <th>vector__</th>\n",
              "      <th>block_id</th>\n",
              "      <th>block_type</th>\n",
              "      <th>content</th>\n",
              "      <th>last_edited_time</th>\n",
              "      <th>inserted_at_time</th>\n",
              "      <th>_dlt_load_id</th>\n",
              "      <th>_dlt_id</th>\n",
              "    </tr>\n",
              "  </thead>\n",
              "  <tbody>\n",
              "    <tr>\n",
              "      <th>0</th>\n",
              "      <td>c69f1ecf-7b02-5810-8286-3f42659ae9d4</td>\n",
              "      <td>[-0.024265556, 0.04746074, -0.01179647, 0.0638...</td>\n",
              "      <td>a8196881-ae94-4767-8767-92fe1a327d24</td>\n",
              "      <td>paragraph</td>\n",
              "      <td>We owe our success to our employees. To show o...</td>\n",
              "      <td>2024-07-05 22:34:00+00:00</td>\n",
              "      <td>2024-07-19 19:07:44.819222+00:00</td>\n",
              "      <td>1721416064.0473487</td>\n",
              "      <td>8AhIYf6ZEidMYQ</td>\n",
              "    </tr>\n",
              "    <tr>\n",
              "      <th>1</th>\n",
              "      <td>f2c18ac0-50f5-5b72-a871-dc5a46780353</td>\n",
              "      <td>[-0.04966156, 0.10853508, -0.009762607, -0.036...</td>\n",
              "      <td>31fcbf26-2ca5-468a-8af8-d7eb4c2db8c8</td>\n",
              "      <td>paragraph</td>\n",
              "      <td>We want to ensure that private information abo...</td>\n",
              "      <td>2024-07-05 22:38:00+00:00</td>\n",
              "      <td>2024-07-19 19:07:44.822765+00:00</td>\n",
              "      <td>1721416064.0473487</td>\n",
              "      <td>EOxBtxR/Onq+sQ</td>\n",
              "    </tr>\n",
              "  </tbody>\n",
              "</table>\n",
              "</div>\n",
              "    <div class=\"colab-df-buttons\">\n",
              "\n",
              "  <div class=\"colab-df-container\">\n",
              "    <button class=\"colab-df-convert\" onclick=\"convertToInteractive('df-1488768b-a75c-43c0-8ac2-848a4d73803f')\"\n",
              "            title=\"Convert this dataframe to an interactive table.\"\n",
              "            style=\"display:none;\">\n",
              "\n",
              "  <svg xmlns=\"http://www.w3.org/2000/svg\" height=\"24px\" viewBox=\"0 -960 960 960\">\n",
              "    <path d=\"M120-120v-720h720v720H120Zm60-500h600v-160H180v160Zm220 220h160v-160H400v160Zm0 220h160v-160H400v160ZM180-400h160v-160H180v160Zm440 0h160v-160H620v160ZM180-180h160v-160H180v160Zm440 0h160v-160H620v160Z\"/>\n",
              "  </svg>\n",
              "    </button>\n",
              "\n",
              "  <style>\n",
              "    .colab-df-container {\n",
              "      display:flex;\n",
              "      gap: 12px;\n",
              "    }\n",
              "\n",
              "    .colab-df-convert {\n",
              "      background-color: #E8F0FE;\n",
              "      border: none;\n",
              "      border-radius: 50%;\n",
              "      cursor: pointer;\n",
              "      display: none;\n",
              "      fill: #1967D2;\n",
              "      height: 32px;\n",
              "      padding: 0 0 0 0;\n",
              "      width: 32px;\n",
              "    }\n",
              "\n",
              "    .colab-df-convert:hover {\n",
              "      background-color: #E2EBFA;\n",
              "      box-shadow: 0px 1px 2px rgba(60, 64, 67, 0.3), 0px 1px 3px 1px rgba(60, 64, 67, 0.15);\n",
              "      fill: #174EA6;\n",
              "    }\n",
              "\n",
              "    .colab-df-buttons div {\n",
              "      margin-bottom: 4px;\n",
              "    }\n",
              "\n",
              "    [theme=dark] .colab-df-convert {\n",
              "      background-color: #3B4455;\n",
              "      fill: #D2E3FC;\n",
              "    }\n",
              "\n",
              "    [theme=dark] .colab-df-convert:hover {\n",
              "      background-color: #434B5C;\n",
              "      box-shadow: 0px 1px 3px 1px rgba(0, 0, 0, 0.15);\n",
              "      filter: drop-shadow(0px 1px 2px rgba(0, 0, 0, 0.3));\n",
              "      fill: #FFFFFF;\n",
              "    }\n",
              "  </style>\n",
              "\n",
              "    <script>\n",
              "      const buttonEl =\n",
              "        document.querySelector('#df-1488768b-a75c-43c0-8ac2-848a4d73803f button.colab-df-convert');\n",
              "      buttonEl.style.display =\n",
              "        google.colab.kernel.accessAllowed ? 'block' : 'none';\n",
              "\n",
              "      async function convertToInteractive(key) {\n",
              "        const element = document.querySelector('#df-1488768b-a75c-43c0-8ac2-848a4d73803f');\n",
              "        const dataTable =\n",
              "          await google.colab.kernel.invokeFunction('convertToInteractive',\n",
              "                                                    [key], {});\n",
              "        if (!dataTable) return;\n",
              "\n",
              "        const docLinkHtml = 'Like what you see? Visit the ' +\n",
              "          '<a target=\"_blank\" href=https://colab.research.google.com/notebooks/data_table.ipynb>data table notebook</a>'\n",
              "          + ' to learn more about interactive tables.';\n",
              "        element.innerHTML = '';\n",
              "        dataTable['output_type'] = 'display_data';\n",
              "        await google.colab.output.renderOutput(dataTable, element);\n",
              "        const docLink = document.createElement('div');\n",
              "        docLink.innerHTML = docLinkHtml;\n",
              "        element.appendChild(docLink);\n",
              "      }\n",
              "    </script>\n",
              "  </div>\n",
              "\n",
              "\n",
              "<div id=\"df-0ca642db-75df-47af-b515-da8e2932bdb8\">\n",
              "  <button class=\"colab-df-quickchart\" onclick=\"quickchart('df-0ca642db-75df-47af-b515-da8e2932bdb8')\"\n",
              "            title=\"Suggest charts\"\n",
              "            style=\"display:none;\">\n",
              "\n",
              "<svg xmlns=\"http://www.w3.org/2000/svg\" height=\"24px\"viewBox=\"0 0 24 24\"\n",
              "     width=\"24px\">\n",
              "    <g>\n",
              "        <path d=\"M19 3H5c-1.1 0-2 .9-2 2v14c0 1.1.9 2 2 2h14c1.1 0 2-.9 2-2V5c0-1.1-.9-2-2-2zM9 17H7v-7h2v7zm4 0h-2V7h2v10zm4 0h-2v-4h2v4z\"/>\n",
              "    </g>\n",
              "</svg>\n",
              "  </button>\n",
              "\n",
              "<style>\n",
              "  .colab-df-quickchart {\n",
              "      --bg-color: #E8F0FE;\n",
              "      --fill-color: #1967D2;\n",
              "      --hover-bg-color: #E2EBFA;\n",
              "      --hover-fill-color: #174EA6;\n",
              "      --disabled-fill-color: #AAA;\n",
              "      --disabled-bg-color: #DDD;\n",
              "  }\n",
              "\n",
              "  [theme=dark] .colab-df-quickchart {\n",
              "      --bg-color: #3B4455;\n",
              "      --fill-color: #D2E3FC;\n",
              "      --hover-bg-color: #434B5C;\n",
              "      --hover-fill-color: #FFFFFF;\n",
              "      --disabled-bg-color: #3B4455;\n",
              "      --disabled-fill-color: #666;\n",
              "  }\n",
              "\n",
              "  .colab-df-quickchart {\n",
              "    background-color: var(--bg-color);\n",
              "    border: none;\n",
              "    border-radius: 50%;\n",
              "    cursor: pointer;\n",
              "    display: none;\n",
              "    fill: var(--fill-color);\n",
              "    height: 32px;\n",
              "    padding: 0;\n",
              "    width: 32px;\n",
              "  }\n",
              "\n",
              "  .colab-df-quickchart:hover {\n",
              "    background-color: var(--hover-bg-color);\n",
              "    box-shadow: 0 1px 2px rgba(60, 64, 67, 0.3), 0 1px 3px 1px rgba(60, 64, 67, 0.15);\n",
              "    fill: var(--button-hover-fill-color);\n",
              "  }\n",
              "\n",
              "  .colab-df-quickchart-complete:disabled,\n",
              "  .colab-df-quickchart-complete:disabled:hover {\n",
              "    background-color: var(--disabled-bg-color);\n",
              "    fill: var(--disabled-fill-color);\n",
              "    box-shadow: none;\n",
              "  }\n",
              "\n",
              "  .colab-df-spinner {\n",
              "    border: 2px solid var(--fill-color);\n",
              "    border-color: transparent;\n",
              "    border-bottom-color: var(--fill-color);\n",
              "    animation:\n",
              "      spin 1s steps(1) infinite;\n",
              "  }\n",
              "\n",
              "  @keyframes spin {\n",
              "    0% {\n",
              "      border-color: transparent;\n",
              "      border-bottom-color: var(--fill-color);\n",
              "      border-left-color: var(--fill-color);\n",
              "    }\n",
              "    20% {\n",
              "      border-color: transparent;\n",
              "      border-left-color: var(--fill-color);\n",
              "      border-top-color: var(--fill-color);\n",
              "    }\n",
              "    30% {\n",
              "      border-color: transparent;\n",
              "      border-left-color: var(--fill-color);\n",
              "      border-top-color: var(--fill-color);\n",
              "      border-right-color: var(--fill-color);\n",
              "    }\n",
              "    40% {\n",
              "      border-color: transparent;\n",
              "      border-right-color: var(--fill-color);\n",
              "      border-top-color: var(--fill-color);\n",
              "    }\n",
              "    60% {\n",
              "      border-color: transparent;\n",
              "      border-right-color: var(--fill-color);\n",
              "    }\n",
              "    80% {\n",
              "      border-color: transparent;\n",
              "      border-right-color: var(--fill-color);\n",
              "      border-bottom-color: var(--fill-color);\n",
              "    }\n",
              "    90% {\n",
              "      border-color: transparent;\n",
              "      border-bottom-color: var(--fill-color);\n",
              "    }\n",
              "  }\n",
              "</style>\n",
              "\n",
              "  <script>\n",
              "    async function quickchart(key) {\n",
              "      const quickchartButtonEl =\n",
              "        document.querySelector('#' + key + ' button');\n",
              "      quickchartButtonEl.disabled = true;  // To prevent multiple clicks.\n",
              "      quickchartButtonEl.classList.add('colab-df-spinner');\n",
              "      try {\n",
              "        const charts = await google.colab.kernel.invokeFunction(\n",
              "            'suggestCharts', [key], {});\n",
              "      } catch (error) {\n",
              "        console.error('Error during call to suggestCharts:', error);\n",
              "      }\n",
              "      quickchartButtonEl.classList.remove('colab-df-spinner');\n",
              "      quickchartButtonEl.classList.add('colab-df-quickchart-complete');\n",
              "    }\n",
              "    (() => {\n",
              "      let quickchartButtonEl =\n",
              "        document.querySelector('#df-0ca642db-75df-47af-b515-da8e2932bdb8 button');\n",
              "      quickchartButtonEl.style.display =\n",
              "        google.colab.kernel.accessAllowed ? 'block' : 'none';\n",
              "    })();\n",
              "  </script>\n",
              "</div>\n",
              "\n",
              "    </div>\n",
              "  </div>\n"
            ],
            "application/vnd.google.colaboratory.intrinsic+json": {
              "type": "dataframe",
              "variable_name": "dbtable",
              "summary": "{\n  \"name\": \"dbtable\",\n  \"rows\": 17,\n  \"fields\": [\n    {\n      \"column\": \"id__\",\n      \"properties\": {\n        \"dtype\": \"string\",\n        \"num_unique_values\": 17,\n        \"samples\": [\n          \"c69f1ecf-7b02-5810-8286-3f42659ae9d4\",\n          \"f2c18ac0-50f5-5b72-a871-dc5a46780353\",\n          \"434b71e9-a11a-519d-a9fe-e3ade78d47d6\"\n        ],\n        \"semantic_type\": \"\",\n        \"description\": \"\"\n      }\n    },\n    {\n      \"column\": \"vector__\",\n      \"properties\": {\n        \"dtype\": \"object\",\n        \"semantic_type\": \"\",\n        \"description\": \"\"\n      }\n    },\n    {\n      \"column\": \"block_id\",\n      \"properties\": {\n        \"dtype\": \"string\",\n        \"num_unique_values\": 17,\n        \"samples\": [\n          \"a8196881-ae94-4767-8767-92fe1a327d24\",\n          \"31fcbf26-2ca5-468a-8af8-d7eb4c2db8c8\",\n          \"e4ec9f4d-b687-4c28-a80d-985bfabcc2ba\"\n        ],\n        \"semantic_type\": \"\",\n        \"description\": \"\"\n      }\n    },\n    {\n      \"column\": \"block_type\",\n      \"properties\": {\n        \"dtype\": \"category\",\n        \"num_unique_values\": 1,\n        \"samples\": [\n          \"paragraph\"\n        ],\n        \"semantic_type\": \"\",\n        \"description\": \"\"\n      }\n    },\n    {\n      \"column\": \"content\",\n      \"properties\": {\n        \"dtype\": \"string\",\n        \"num_unique_values\": 17,\n        \"samples\": [\n          \"We owe our success to our employees. To show our gratitude, we will invest in our employees professional development. We want employees to feel confident about improving their efficiency and productivity. We also want to help our employees achieve personal growth and success. Each employee has $1,000 annually to spend on educational activities or material. Subscriptions and books are included in this budget, unless they are necessary for you to complete your everyday duties. Send your expenses to HR by email. Apart from online courses, we offer these training opportunities: formal training sessions (individual or corporate, employee coaching and mentoring, seats at industry conferences, on-the-job training, job shadowing, job rotation. Development is a collective process. Team members and managers should regularly discuss learning needs and opportunities. And it\\u2019s HR\\u2019s responsibility to facilitate any development activities and processes.\"\n        ],\n        \"semantic_type\": \"\",\n        \"description\": \"\"\n      }\n    },\n    {\n      \"column\": \"last_edited_time\",\n      \"properties\": {\n        \"dtype\": \"date\",\n        \"min\": \"2024-07-05 22:34:00+00:00\",\n        \"max\": \"2024-07-05 23:33:00+00:00\",\n        \"num_unique_values\": 6,\n        \"samples\": [\n          \"2024-07-05 22:34:00+00:00\"\n        ],\n        \"semantic_type\": \"\",\n        \"description\": \"\"\n      }\n    },\n    {\n      \"column\": \"inserted_at_time\",\n      \"properties\": {\n        \"dtype\": \"date\",\n        \"min\": \"2024-07-19 19:07:44.819222+00:00\",\n        \"max\": \"2024-07-19 19:07:44.825116+00:00\",\n        \"num_unique_values\": 17,\n        \"samples\": [\n          \"2024-07-19 19:07:44.819222+00:00\"\n        ],\n        \"semantic_type\": \"\",\n        \"description\": \"\"\n      }\n    },\n    {\n      \"column\": \"_dlt_load_id\",\n      \"properties\": {\n        \"dtype\": \"category\",\n        \"num_unique_values\": 1,\n        \"samples\": [\n          \"1721416064.0473487\"\n        ],\n        \"semantic_type\": \"\",\n        \"description\": \"\"\n      }\n    },\n    {\n      \"column\": \"_dlt_id\",\n      \"properties\": {\n        \"dtype\": \"string\",\n        \"num_unique_values\": 17,\n        \"samples\": [\n          \"8AhIYf6ZEidMYQ\"\n        ],\n        \"semantic_type\": \"\",\n        \"description\": \"\"\n      }\n    }\n  ]\n}"
            }
          },
          "metadata": {},
          "execution_count": 9
        }
      ]
    },
    {
      "cell_type": "code",
      "source": [
        "sorted(set(dbtable['last_edited_time']))"
      ],
      "metadata": {
        "colab": {
          "base_uri": "https://localhost:8080/"
        },
        "id": "zM5teklOW-0C",
        "outputId": "fe1925c4-d66c-402d-cb7b-4e1f0335085f"
      },
      "execution_count": 10,
      "outputs": [
        {
          "output_type": "execute_result",
          "data": {
            "text/plain": [
              "[Timestamp('2024-07-05 22:34:00+0000', tz='UTC'),\n",
              " Timestamp('2024-07-05 22:38:00+0000', tz='UTC'),\n",
              " Timestamp('2024-07-05 22:52:00+0000', tz='UTC'),\n",
              " Timestamp('2024-07-05 22:54:00+0000', tz='UTC'),\n",
              " Timestamp('2024-07-05 22:56:00+0000', tz='UTC'),\n",
              " Timestamp('2024-07-05 23:33:00+0000', tz='UTC')]"
            ]
          },
          "metadata": {},
          "execution_count": 10
        }
      ]
    },
    {
      "cell_type": "markdown",
      "source": [
        ">> Latest last edited time is : Timestamp('2024-07-05 23:33:00+0000', tz='UTC')"
      ],
      "metadata": {
        "id": "qFV14F3rXpni"
      }
    },
    {
      "cell_type": "markdown",
      "source": [
        "## Q3. Ask the Assistant\n",
        "\n",
        "Find out with the help of the AI assistant: how many PTO days are the employees entitled to in a year?  \n",
        "\n",
        "* 20\n",
        "* 25\n",
        "* 30\n",
        "* 35"
      ],
      "metadata": {
        "id": "GFSqco4yXyFi"
      }
    },
    {
      "cell_type": "code",
      "source": [
        "!curl -fsSL https://ollama.com/install.sh | sh"
      ],
      "metadata": {
        "colab": {
          "base_uri": "https://localhost:8080/"
        },
        "id": "Uhok92GCXxKz",
        "outputId": "fb3ea545-984f-4b5b-cebd-fda65ea7051a"
      },
      "execution_count": 11,
      "outputs": [
        {
          "output_type": "stream",
          "name": "stdout",
          "text": [
            ">>> Downloading ollama...\n",
            "############################################################################################# 100.0%\n",
            ">>> Installing ollama to /usr/local/bin...\n",
            ">>> Adding ollama user to video group...\n",
            ">>> Adding current user to ollama group...\n",
            ">>> Creating ollama systemd service...\n",
            "WARNING: Unable to detect NVIDIA/AMD GPU. Install lspci or lshw to automatically detect and install GPU dependencies.\n",
            ">>> The Ollama API is now available at 127.0.0.1:11434.\n",
            ">>> Install complete. Run \"ollama\" from the command line.\n"
          ]
        }
      ]
    },
    {
      "cell_type": "code",
      "source": [
        "!nohup ollama serve > nohup.out 2>&1 &"
      ],
      "metadata": {
        "id": "kji0kTyCX6sS"
      },
      "execution_count": 12,
      "outputs": []
    },
    {
      "cell_type": "code",
      "source": [
        "%%capture\n",
        "!ollama pull llama2-uncensored"
      ],
      "metadata": {
        "id": "LIQVgHNYX6pa"
      },
      "execution_count": 13,
      "outputs": []
    },
    {
      "cell_type": "code",
      "source": [
        "!pip install ollama"
      ],
      "metadata": {
        "colab": {
          "base_uri": "https://localhost:8080/"
        },
        "id": "240PprQQX6la",
        "outputId": "a1616bff-0561-474d-b7be-b1b007de00d3"
      },
      "execution_count": 14,
      "outputs": [
        {
          "output_type": "stream",
          "name": "stdout",
          "text": [
            "Requirement already satisfied: ollama in /usr/local/lib/python3.10/dist-packages (0.3.0)\n",
            "Requirement already satisfied: httpx<0.28.0,>=0.27.0 in /usr/local/lib/python3.10/dist-packages (from ollama) (0.27.0)\n",
            "Requirement already satisfied: anyio in /usr/local/lib/python3.10/dist-packages (from httpx<0.28.0,>=0.27.0->ollama) (3.7.1)\n",
            "Requirement already satisfied: certifi in /usr/local/lib/python3.10/dist-packages (from httpx<0.28.0,>=0.27.0->ollama) (2024.7.4)\n",
            "Requirement already satisfied: httpcore==1.* in /usr/local/lib/python3.10/dist-packages (from httpx<0.28.0,>=0.27.0->ollama) (1.0.5)\n",
            "Requirement already satisfied: idna in /usr/local/lib/python3.10/dist-packages (from httpx<0.28.0,>=0.27.0->ollama) (3.7)\n",
            "Requirement already satisfied: sniffio in /usr/local/lib/python3.10/dist-packages (from httpx<0.28.0,>=0.27.0->ollama) (1.3.1)\n",
            "Requirement already satisfied: h11<0.15,>=0.13 in /usr/local/lib/python3.10/dist-packages (from httpcore==1.*->httpx<0.28.0,>=0.27.0->ollama) (0.14.0)\n",
            "Requirement already satisfied: exceptiongroup in /usr/local/lib/python3.10/dist-packages (from anyio->httpx<0.28.0,>=0.27.0->ollama) (1.2.2)\n"
          ]
        }
      ]
    },
    {
      "cell_type": "code",
      "source": [
        "import ollama"
      ],
      "metadata": {
        "id": "ueVsIbG1X6da"
      },
      "execution_count": 15,
      "outputs": []
    },
    {
      "cell_type": "code",
      "source": [
        "def retrieve_context_from_lancedb(dbtable, question, top_k=2):\n",
        "\n",
        "    query_results = dbtable.search(query=question).to_list()\n",
        "    context = \"\\n\".join([result[\"content\"] for result in query_results[:top_k]])\n",
        "\n",
        "    return context"
      ],
      "metadata": {
        "id": "VefSFIdeYHHr"
      },
      "execution_count": 16,
      "outputs": []
    },
    {
      "cell_type": "code",
      "source": [
        "def main():\n",
        "    # Connect to the lancedb table\n",
        "    db = lancedb.connect(\".lancedb\")\n",
        "    dbtable = db.open_table(\"notion_pages___homework\")\n",
        "\n",
        "    # A system prompt telling ollama to accept input in the form of \"Question: ... ; Context: ...\"\n",
        "    messages = [\n",
        "        {\"role\": \"system\", \"content\": \"You are a helpful assistant that helps users understand policies inside a company's employee handbook. The user will first ask you a question and then provide you relevant paragraphs from the handbook as context. Please answer the question based on the provided context. For any details missing in the paragraph, encourage the employee to contact the HR for that information. Please keep the responses conversational.\"}\n",
        "    ]\n",
        "\n",
        "    while True:\n",
        "        # Accept user question\n",
        "        question = input(\"You: \")\n",
        "\n",
        "        # Retrieve the relevant paragraphs on the question\n",
        "        context = retrieve_context_from_lancedb(dbtable,question,top_k=2)\n",
        "\n",
        "        # Create a user prompt using the question and retrieved context\n",
        "        messages.append(\n",
        "            {\"role\": \"user\", \"content\": f\"Question: '{question}'; Context:'{context}'\"}\n",
        "        )\n",
        "\n",
        "        # Get the response from the LLM\n",
        "        response = ollama.chat(\n",
        "            model=\"llama2-uncensored\",\n",
        "            messages=messages\n",
        "        )\n",
        "        response_content = response['message']['content']\n",
        "        print(f\"Assistant: {response_content}\")\n",
        "\n",
        "        # Add the response into the context window\n",
        "        messages.append(\n",
        "            {\"role\": \"assistant\", \"content\":response_content}\n",
        "        )"
      ],
      "metadata": {
        "id": "LwlSqhckYH4k"
      },
      "execution_count": 17,
      "outputs": []
    },
    {
      "cell_type": "code",
      "source": [
        "main()"
      ],
      "metadata": {
        "colab": {
          "base_uri": "https://localhost:8080/",
          "height": 446
        },
        "id": "nDkOKTU2YHAb",
        "outputId": "ec046159-f359-49d3-cee8-34fc0de3b845"
      },
      "execution_count": 18,
      "outputs": [
        {
          "name": "stdout",
          "output_type": "stream",
          "text": [
            "You: how many PTO days are the employees entitled to in a year?\n"
          ]
        },
        {
          "output_type": "stream",
          "name": "stderr",
          "text": [
            "/usr/local/lib/python3.10/dist-packages/huggingface_hub/utils/_token.py:89: UserWarning: \n",
            "The secret `HF_TOKEN` does not exist in your Colab secrets.\n",
            "To authenticate with the Hugging Face Hub, create a token in your settings tab (https://huggingface.co/settings/tokens), set it as secret in your Google Colab and restart your session.\n",
            "You will be able to reuse this secret in all of your notebooks.\n",
            "Please note that authentication is recommended but still optional to access public models or datasets.\n",
            "  warnings.warn(\n"
          ]
        },
        {
          "output_type": "stream",
          "name": "stdout",
          "text": [
            "Assistant: Thank you for the question! Based on the context provided, we can answer your question as follows: The employees in this company are entitled to 30 days of paid time off (PTO) per year.\n"
          ]
        },
        {
          "output_type": "error",
          "ename": "KeyboardInterrupt",
          "evalue": "Interrupted by user",
          "traceback": [
            "\u001b[0;31m---------------------------------------------------------------------------\u001b[0m",
            "\u001b[0;31mKeyboardInterrupt\u001b[0m                         Traceback (most recent call last)",
            "\u001b[0;32m<ipython-input-18-263240bbee7e>\u001b[0m in \u001b[0;36m<cell line: 1>\u001b[0;34m()\u001b[0m\n\u001b[0;32m----> 1\u001b[0;31m \u001b[0mmain\u001b[0m\u001b[0;34m(\u001b[0m\u001b[0;34m)\u001b[0m\u001b[0;34m\u001b[0m\u001b[0;34m\u001b[0m\u001b[0m\n\u001b[0m",
            "\u001b[0;32m<ipython-input-17-0fdfe0b1935b>\u001b[0m in \u001b[0;36mmain\u001b[0;34m()\u001b[0m\n\u001b[1;32m     11\u001b[0m     \u001b[0;32mwhile\u001b[0m \u001b[0;32mTrue\u001b[0m\u001b[0;34m:\u001b[0m\u001b[0;34m\u001b[0m\u001b[0;34m\u001b[0m\u001b[0m\n\u001b[1;32m     12\u001b[0m         \u001b[0;31m# Accept user question\u001b[0m\u001b[0;34m\u001b[0m\u001b[0;34m\u001b[0m\u001b[0m\n\u001b[0;32m---> 13\u001b[0;31m         \u001b[0mquestion\u001b[0m \u001b[0;34m=\u001b[0m \u001b[0minput\u001b[0m\u001b[0;34m(\u001b[0m\u001b[0;34m\"You: \"\u001b[0m\u001b[0;34m)\u001b[0m\u001b[0;34m\u001b[0m\u001b[0;34m\u001b[0m\u001b[0m\n\u001b[0m\u001b[1;32m     14\u001b[0m \u001b[0;34m\u001b[0m\u001b[0m\n\u001b[1;32m     15\u001b[0m         \u001b[0;31m# Retrieve the relevant paragraphs on the question\u001b[0m\u001b[0;34m\u001b[0m\u001b[0;34m\u001b[0m\u001b[0m\n",
            "\u001b[0;32m/usr/local/lib/python3.10/dist-packages/ipykernel/kernelbase.py\u001b[0m in \u001b[0;36mraw_input\u001b[0;34m(self, prompt)\u001b[0m\n\u001b[1;32m    849\u001b[0m                 \u001b[0;34m\"raw_input was called, but this frontend does not support input requests.\"\u001b[0m\u001b[0;34m\u001b[0m\u001b[0;34m\u001b[0m\u001b[0m\n\u001b[1;32m    850\u001b[0m             )\n\u001b[0;32m--> 851\u001b[0;31m         return self._input_request(str(prompt),\n\u001b[0m\u001b[1;32m    852\u001b[0m             \u001b[0mself\u001b[0m\u001b[0;34m.\u001b[0m\u001b[0m_parent_ident\u001b[0m\u001b[0;34m,\u001b[0m\u001b[0;34m\u001b[0m\u001b[0;34m\u001b[0m\u001b[0m\n\u001b[1;32m    853\u001b[0m             \u001b[0mself\u001b[0m\u001b[0;34m.\u001b[0m\u001b[0m_parent_header\u001b[0m\u001b[0;34m,\u001b[0m\u001b[0;34m\u001b[0m\u001b[0;34m\u001b[0m\u001b[0m\n",
            "\u001b[0;32m/usr/local/lib/python3.10/dist-packages/ipykernel/kernelbase.py\u001b[0m in \u001b[0;36m_input_request\u001b[0;34m(self, prompt, ident, parent, password)\u001b[0m\n\u001b[1;32m    893\u001b[0m             \u001b[0;32mexcept\u001b[0m \u001b[0mKeyboardInterrupt\u001b[0m\u001b[0;34m:\u001b[0m\u001b[0;34m\u001b[0m\u001b[0;34m\u001b[0m\u001b[0m\n\u001b[1;32m    894\u001b[0m                 \u001b[0;31m# re-raise KeyboardInterrupt, to truncate traceback\u001b[0m\u001b[0;34m\u001b[0m\u001b[0;34m\u001b[0m\u001b[0m\n\u001b[0;32m--> 895\u001b[0;31m                 \u001b[0;32mraise\u001b[0m \u001b[0mKeyboardInterrupt\u001b[0m\u001b[0;34m(\u001b[0m\u001b[0;34m\"Interrupted by user\"\u001b[0m\u001b[0;34m)\u001b[0m \u001b[0;32mfrom\u001b[0m \u001b[0;32mNone\u001b[0m\u001b[0;34m\u001b[0m\u001b[0;34m\u001b[0m\u001b[0m\n\u001b[0m\u001b[1;32m    896\u001b[0m             \u001b[0;32mexcept\u001b[0m \u001b[0mException\u001b[0m \u001b[0;32mas\u001b[0m \u001b[0me\u001b[0m\u001b[0;34m:\u001b[0m\u001b[0;34m\u001b[0m\u001b[0;34m\u001b[0m\u001b[0m\n\u001b[1;32m    897\u001b[0m                 \u001b[0mself\u001b[0m\u001b[0;34m.\u001b[0m\u001b[0mlog\u001b[0m\u001b[0;34m.\u001b[0m\u001b[0mwarning\u001b[0m\u001b[0;34m(\u001b[0m\u001b[0;34m\"Invalid Message:\"\u001b[0m\u001b[0;34m,\u001b[0m \u001b[0mexc_info\u001b[0m\u001b[0;34m=\u001b[0m\u001b[0;32mTrue\u001b[0m\u001b[0;34m)\u001b[0m\u001b[0;34m\u001b[0m\u001b[0;34m\u001b[0m\u001b[0m\n",
            "\u001b[0;31mKeyboardInterrupt\u001b[0m: Interrupted by user"
          ]
        }
      ]
    },
    {
      "cell_type": "markdown",
      "source": [
        ">> PTO days obtained in the response from assistant : 30"
      ],
      "metadata": {
        "id": "UainkbOgYRab"
      }
    }
  ]
}